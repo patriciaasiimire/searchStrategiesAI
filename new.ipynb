{
 "cells": [
  {
   "cell_type": "markdown",
   "metadata": {},
   "source": [
    "DFS"
   ]
  },
  {
   "cell_type": "code",
   "execution_count": 2,
   "metadata": {},
   "outputs": [],
   "source": [
    "class Graph:\n",
    "    def __init__(self):\n",
    "        self.graph = {}\n",
    "\n",
    "    def add_edge(self, node, neighbors):\n",
    "        self.graph[node] = neighbors\n"
   ]
  },
  {
   "cell_type": "code",
   "execution_count": 3,
   "metadata": {},
   "outputs": [],
   "source": [
    "def dfs(graph, start):\n",
    "    visited = set()\n",
    "    stack = [start]\n",
    "    path = []\n",
    "\n",
    "    while stack:\n",
    "        node = stack.pop()\n",
    "        if node not in visited:\n",
    "            visited.add(node)\n",
    "            path.append(node)\n",
    "            stack.extend(neigh for neigh in reversed(graph[node]) if neigh not in visited)\n",
    "\n",
    "    return path\n"
   ]
  },
  {
   "cell_type": "code",
   "execution_count": 4,
   "metadata": {},
   "outputs": [
    {
     "name": "stdout",
     "output_type": "stream",
     "text": [
      "DFS Expansion Order: ['s', 'a', 'b', 'c', 'd', 'g']\n",
      "Path Returned by DFS: s -> a -> b -> c -> d -> g\n",
      "States Not Expanded in DFS: set()\n"
     ]
    }
   ],
   "source": [
    "g = Graph()\n",
    "g.add_edge('s', ['a', 'b'])\n",
    "g.add_edge('a', ['b', 'c'])\n",
    "g.add_edge('b', ['c'])\n",
    "g.add_edge('c', ['d', 'g'])\n",
    "g.add_edge('d', ['g'])\n",
    "g.add_edge('g', [])\n",
    "\n",
    "\n",
    "dfs_order = dfs(g.graph, 's')\n",
    "print(\"DFS Expansion Order:\", dfs_order)\n",
    "print(\"Path Returned by DFS:\", ' -> '.join(dfs_order))\n",
    "\n",
    "\n",
    "all_nodes = set(g.graph.keys())\n",
    "unexpanded_states = all_nodes - set(dfs_order)\n",
    "print(\"States Not Expanded in DFS:\", unexpanded_states)\n"
   ]
  },
  {
   "cell_type": "markdown",
   "metadata": {},
   "source": [
    "BFS"
   ]
  },
  {
   "cell_type": "code",
   "execution_count": 5,
   "metadata": {},
   "outputs": [],
   "source": [
    "from collections import deque\n",
    "\n",
    "class Graph:\n",
    "    def __init__(self):\n",
    "        self.graph = {}\n",
    "\n",
    "    def add_edge(self, node, neighbors):\n",
    "        self.graph[node] = neighbors\n"
   ]
  },
  {
   "cell_type": "code",
   "execution_count": 6,
   "metadata": {},
   "outputs": [],
   "source": [
    "def bfs(graph, start):\n",
    "    visited = set()\n",
    "    queue = deque([start])\n",
    "    path = []\n",
    "\n",
    "    while queue:\n",
    "        node = queue.popleft()\n",
    "        if node not in visited:\n",
    "            visited.add(node)\n",
    "            path.append(node)\n",
    "            queue.extend(neigh for neigh in graph[node] if neigh not in visited)\n",
    "\n",
    "    return path\n"
   ]
  },
  {
   "cell_type": "code",
   "execution_count": 7,
   "metadata": {},
   "outputs": [
    {
     "name": "stdout",
     "output_type": "stream",
     "text": [
      "BFS Expansion Order: ['s', 'a', 'b', 'c', 'd', 'g']\n",
      "Path Returned by BFS: s -> a -> b -> c -> d -> g\n",
      "States Not Expanded in BFS: set()\n"
     ]
    }
   ],
   "source": [
    "g = Graph()\n",
    "g.add_edge('s', ['a', 'b'])\n",
    "g.add_edge('a', ['b', 'c'])\n",
    "g.add_edge('b', ['c'])\n",
    "g.add_edge('c', ['d', 'g'])\n",
    "g.add_edge('d', ['g'])\n",
    "g.add_edge('g', [])\n",
    "\n",
    "\n",
    "bfs_order = bfs(g.graph, 's')\n",
    "print(\"BFS Expansion Order:\", bfs_order)\n",
    "print(\"Path Returned by BFS:\", ' -> '.join(bfs_order))\n",
    "\n",
    "\n",
    "all_nodes = set(g.graph.keys())\n",
    "unexpanded_states = all_nodes - set(bfs_order)\n",
    "print(\"States Not Expanded in BFS:\", unexpanded_states)\n"
   ]
  },
  {
   "cell_type": "markdown",
   "metadata": {},
   "source": [
    "UCS"
   ]
  },
  {
   "cell_type": "code",
   "execution_count": 8,
   "metadata": {},
   "outputs": [],
   "source": [
    "import heapq\n",
    "\n",
    "class Graph:\n",
    "    def __init__(self):\n",
    "        self.graph = {}\n",
    "\n",
    "    def add_edge(self, node, neighbors):\n",
    "        self.graph[node] = neighbors\n"
   ]
  },
  {
   "cell_type": "code",
   "execution_count": 9,
   "metadata": {},
   "outputs": [],
   "source": [
    "def ucs(graph, start, goal):\n",
    "    visited = set()\n",
    "    priority_queue = [(0, start)]\n",
    "    path = {}\n",
    "    costs = {node: float('inf') for node in graph}\n",
    "\n",
    "    costs[start] = 0\n",
    "\n",
    "    while priority_queue:\n",
    "        current_cost, current_node = heapq.heappop(priority_queue)\n",
    "\n",
    "        if current_node not in visited:\n",
    "            visited.add(current_node)\n",
    "\n",
    "            if current_node == goal:\n",
    "                \n",
    "                ucs_path = []\n",
    "                while current_node:\n",
    "                    ucs_path.insert(0, current_node)\n",
    "                    current_node = path.get(current_node)\n",
    "                return ucs_path\n",
    "\n",
    "            for neighbor in graph[current_node]:\n",
    "                cost_to_neighbor = costs[current_node] + 1\n",
    "                if cost_to_neighbor < costs[neighbor]:\n",
    "                    costs[neighbor] = cost_to_neighbor\n",
    "                    heapq.heappush(priority_queue, (cost_to_neighbor, neighbor))\n",
    "                    path[neighbor] = current_node\n",
    "\n",
    "    return None  # No path found\n"
   ]
  },
  {
   "cell_type": "code",
   "execution_count": 11,
   "metadata": {},
   "outputs": [
    {
     "name": "stdout",
     "output_type": "stream",
     "text": [
      "UCS Expansion Order: ['s', 'a', 'c', 'g']\n",
      "Path Returned by UCS: s -> a -> c -> g\n",
      "States Not Expanded in UCS: {'d', 'b'}\n"
     ]
    }
   ],
   "source": [
    "g = Graph()\n",
    "g.add_edge('s', ['a', 'b'])\n",
    "g.add_edge('a', ['b', 'c'])\n",
    "g.add_edge('b', ['c'])\n",
    "g.add_edge('c', ['d', 'g'])\n",
    "g.add_edge('d', ['g'])\n",
    "g.add_edge('g', [])\n",
    "\n",
    "\n",
    "ucs_path = ucs(g.graph, 's', 'g')\n",
    "if ucs_path:\n",
    "    print(\"UCS Expansion Order:\", ucs_path)\n",
    "    print(\"Path Returned by UCS:\", ' -> '.join(ucs_path))\n",
    "else:\n",
    "    print(\"No path found from 's' to 'g'\")\n",
    "\n",
    "\n",
    "all_nodes = set(g.graph.keys())\n",
    "unexpanded_states = all_nodes - set(ucs_path)\n",
    "print(\"States Not Expanded in UCS:\", unexpanded_states)\n"
   ]
  },
  {
   "cell_type": "markdown",
   "metadata": {},
   "source": [
    "GREEDY"
   ]
  },
  {
   "cell_type": "code",
   "execution_count": 12,
   "metadata": {},
   "outputs": [],
   "source": [
    "import heapq\n",
    "\n",
    "class Graph:\n",
    "    def __init__(self):\n",
    "        self.graph = {}\n",
    "\n",
    "    def add_edge(self, node, neighbors):\n",
    "        self.graph[node] = neighbors\n"
   ]
  },
  {
   "cell_type": "code",
   "execution_count": 13,
   "metadata": {},
   "outputs": [],
   "source": [
    "def greedy_search(graph, start, goal, heuristic):\n",
    "    visited = set()\n",
    "    priority_queue = [(heuristic[start], start)] \n",
    "    path = {}\n",
    "\n",
    "    while priority_queue:\n",
    "        _, current_node = heapq.heappop(priority_queue)\n",
    "\n",
    "        if current_node not in visited:\n",
    "            visited.add(current_node)\n",
    "\n",
    "            if current_node == goal:\n",
    "                \n",
    "                greedy_path = []\n",
    "                while current_node:\n",
    "                    greedy_path.insert(0, current_node)\n",
    "                    current_node = path.get(current_node)\n",
    "                return greedy_path\n",
    "\n",
    "            neighbors = graph[current_node]\n",
    "            for neighbor in neighbors:\n",
    "                if neighbor not in visited:\n",
    "                    path[neighbor] = current_node\n",
    "                    heapq.heappush(priority_queue, (heuristic[neighbor], neighbor))\n",
    "\n",
    "    return None  \n"
   ]
  },
  {
   "cell_type": "code",
   "execution_count": 16,
   "metadata": {},
   "outputs": [
    {
     "name": "stdout",
     "output_type": "stream",
     "text": [
      "Greedy Search Expansion Order: ['s', 'a', 'c', 'g']\n",
      "Path Returned by Greedy Search: s -> a -> c -> g\n",
      "States Not Expanded in Greedy Search: {'d', 'b'}\n"
     ]
    }
   ],
   "source": [
    "g = Graph()\n",
    "g.add_edge( 's' , ['a','b'])\n",
    "g.add_edge( 'a' , ['b', 'c'])\n",
    "g.add_edge('b' , ['c'])\n",
    "g.add_edge('c' , ['d', 'g'])\n",
    "g.add_edge('d' , ['g'])\n",
    "g.add_edge('g' , [])\n",
    "heuristic = {'s': 7, 'a': 5, 'b': 7, 'c': 4, 'd': 1, 'g': 0}\n",
    "\n",
    "greedy_path = greedy_search(g.graph, 's', 'g', heuristic)\n",
    "if greedy_path:\n",
    "    print(\"Greedy Search Expansion Order:\", greedy_path)\n",
    "    print(\"Path Returned by Greedy Search:\", ' -> '.join(greedy_path))\n",
    "else:\n",
    "    print(\"No path found from 'A' to 'F'\")\n",
    "\n",
    "\n",
    "all_nodes = set(g.graph.keys())\n",
    "unexpanded_states = all_nodes - set(greedy_path)\n",
    "print(\"States Not Expanded in Greedy Search:\", unexpanded_states)\n"
   ]
  },
  {
   "cell_type": "markdown",
   "metadata": {},
   "source": [
    "A* SEARCH"
   ]
  },
  {
   "cell_type": "code",
   "execution_count": 17,
   "metadata": {},
   "outputs": [],
   "source": [
    "import heapq\n",
    "\n",
    "class Graph:\n",
    "    def __init__(self):\n",
    "        self.graph = {}\n",
    "\n",
    "    def add_edge(self, node, neighbors):\n",
    "        self.graph[node] = neighbors\n",
    "\n"
   ]
  },
  {
   "cell_type": "code",
   "execution_count": 18,
   "metadata": {},
   "outputs": [],
   "source": [
    "def astar_search(graph, start, goal, heuristic):\n",
    "    visited = set()\n",
    "    priority_queue = [(0 + heuristic[start], 0, start)]  \n",
    "    path = {}\n",
    "\n",
    "    while priority_queue:\n",
    "        _, g_value, current_node = heapq.heappop(priority_queue)\n",
    "\n",
    "        if current_node not in visited:\n",
    "            visited.add(current_node)\n",
    "\n",
    "            if current_node == goal:\n",
    "                \n",
    "                astar_path = []\n",
    "                while current_node:\n",
    "                    astar_path.insert(0, current_node)\n",
    "                    current_node = path.get(current_node)\n",
    "                return astar_path\n",
    "\n",
    "            neighbors = graph[current_node]\n",
    "            for neighbor in neighbors:\n",
    "                if neighbor not in visited:\n",
    "                    \n",
    "                    g_value_to_neighbor = g_value + 1  \n",
    "                    f_value = g_value_to_neighbor + heuristic[neighbor]\n",
    "                    \n",
    "                    \n",
    "                    path[neighbor] = current_node\n",
    "                    heapq.heappush(priority_queue, (f_value, g_value_to_neighbor, neighbor))\n",
    "\n",
    "    return None  \n"
   ]
  },
  {
   "cell_type": "code",
   "execution_count": 20,
   "metadata": {},
   "outputs": [
    {
     "name": "stdout",
     "output_type": "stream",
     "text": [
      "A* Search Expansion Order: ['s', 'a', 'c', 'g']\n",
      "Path Returned by A* Search: s -> a -> c -> g\n",
      "States Not Expanded in A* Search: {'d', 'b'}\n"
     ]
    }
   ],
   "source": [
    "g = Graph()\n",
    "g.add_edge( 's' , ['a','b'])\n",
    "g.add_edge( 'a' , ['b', 'c'])\n",
    "g.add_edge('b' , ['c'])\n",
    "g.add_edge('c' , ['d', 'g'])\n",
    "g.add_edge('d' , ['g'])\n",
    "g.add_edge('g' , [])\n",
    "heuristic = {'s': 7, 'a': 5, 'b': 7, 'c': 4, 'd': 1, 'g': 0}\n",
    "\n",
    "astar_path = astar_search(g.graph, 's', 'g', heuristic)\n",
    "if astar_path:\n",
    "    print(\"A* Search Expansion Order:\", astar_path)\n",
    "    print(\"Path Returned by A* Search:\", ' -> '.join(astar_path))\n",
    "else:\n",
    "    print(\"No path found from 'A' to 'F'\")\n",
    "\n",
    "\n",
    "all_nodes = set(g.graph.keys())\n",
    "unexpanded_states = all_nodes - set(astar_path)\n",
    "print(\"States Not Expanded in A* Search:\", unexpanded_states)\n"
   ]
  }
 ],
 "metadata": {
  "language_info": {
   "name": "python"
  },
  "orig_nbformat": 4
 },
 "nbformat": 4,
 "nbformat_minor": 2
}
