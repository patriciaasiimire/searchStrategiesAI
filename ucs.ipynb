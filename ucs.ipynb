{
 "cells": [
  {
   "cell_type": "code",
   "execution_count": 1,
   "metadata": {},
   "outputs": [],
   "source": [
    "import heapq\n",
    "\n",
    "class Graph:\n",
    "    def __init__(self):\n",
    "        self.graph = {}\n",
    "\n",
    "    def add_edge(self, node, neighbors):\n",
    "        self.graph[node] = neighbors"
   ]
  },
  {
   "cell_type": "code",
   "execution_count": 2,
   "metadata": {},
   "outputs": [],
   "source": [
    "def ucs(graph, start, goal):\n",
    "    visited = set()\n",
    "    priority_queue = [(0, start, [start])]  \n",
    "\n",
    "    while priority_queue:\n",
    "        current_cost, current_node, path = heapq.heappop(priority_queue)\n",
    "\n",
    "        if current_node not in visited:\n",
    "            visited.add(current_node)\n",
    "\n",
    "            if current_node == goal:\n",
    "                return path  \n",
    "\n",
    "            for neighbor in graph[current_node]:\n",
    "                if neighbor not in visited:\n",
    "                    \n",
    "                    cost_to_neighbor = current_cost + 1  \n",
    "                    heapq.heappush(priority_queue, (cost_to_neighbor, neighbor, path + [neighbor]))\n",
    "\n",
    "    return None  \n"
   ]
  },
  {
   "cell_type": "code",
   "execution_count": 9,
   "metadata": {},
   "outputs": [],
   "source": [
    "\n",
    "g = Graph()\n",
    "g.add_edge( 's' , ['a','b'])\n",
    "g.add_edge( 'a' , ['b', 'c'])\n",
    "g.add_edge('b' , ['c'])\n",
    "g.add_edge('c' , ['d', 'g'])\n",
    "g.add_edge('d' , ['g'])\n",
    "g.add_edge('g' , [])\n"
   ]
  },
  {
   "cell_type": "code",
   "execution_count": 10,
   "metadata": {},
   "outputs": [
    {
     "name": "stdout",
     "output_type": "stream",
     "text": [
      "UCS Expansion Order:\n",
      "Step 1: s\n",
      "Step 2: a\n",
      "Step 3: c\n",
      "Step 4: g\n",
      "Path Returned by UCS: s -> a -> c -> g\n"
     ]
    }
   ],
   "source": [
    "\n",
    "ucs_path = ucs(g.graph, 's', 'g')\n",
    "if ucs_path:\n",
    "    print(\"UCS Expansion Order:\")\n",
    "    for i, node in enumerate(ucs_path):\n",
    "        print(f\"Step {i+1}: {node}\")\n",
    "    print(\"Path Returned by UCS:\", ' -> '.join(ucs_path))\n",
    "else:\n",
    "    print(\"No path found from 's' to 'g'\")\n"
   ]
  },
  {
   "cell_type": "code",
   "execution_count": 11,
   "metadata": {},
   "outputs": [
    {
     "name": "stdout",
     "output_type": "stream",
     "text": [
      "States Not Expanded in UCS: {'d', 'b'}\n"
     ]
    }
   ],
   "source": [
    "\n",
    "all_nodes = set(g.graph.keys())\n",
    "expanded_states = set(ucs_path)\n",
    "unexpanded_states = all_nodes - expanded_states\n",
    "print(\"States Not Expanded in UCS:\", unexpanded_states)\n"
   ]
  }
 ],
 "metadata": {
  "kernelspec": {
   "display_name": "Python 3",
   "language": "python",
   "name": "python3"
  },
  "language_info": {
   "codemirror_mode": {
    "name": "ipython",
    "version": 3
   },
   "file_extension": ".py",
   "mimetype": "text/x-python",
   "name": "python",
   "nbconvert_exporter": "python",
   "pygments_lexer": "ipython3",
   "version": "3.11.5"
  },
  "orig_nbformat": 4
 },
 "nbformat": 4,
 "nbformat_minor": 2
}
