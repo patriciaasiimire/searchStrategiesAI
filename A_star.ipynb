{
 "cells": [
  {
   "cell_type": "code",
   "execution_count": 7,
   "metadata": {},
   "outputs": [],
   "source": [
    "import heapq\n",
    "\n",
    "class Graph:\n",
    "    def __init__(self):\n",
    "        self.graph = {}\n",
    "\n",
    "    def add_edge(self, node, neighbors):\n",
    "        self.graph[node] = neighbors"
   ]
  },
  {
   "cell_type": "code",
   "execution_count": 8,
   "metadata": {},
   "outputs": [],
   "source": [
    "def astar_search(graph, start, goal, heuristic):\n",
    "    visited = set()\n",
    "    priority_queue = [(0, start, [start])]  \n",
    "\n",
    "    while priority_queue:\n",
    "        _, current_node, path = heapq.heappop(priority_queue)\n",
    "\n",
    "        if current_node not in visited:\n",
    "            visited.add(current_node)\n",
    "\n",
    "            if current_node == goal:\n",
    "                return path  \n",
    "\n",
    "            for neighbor in graph[current_node]:\n",
    "                if neighbor not in visited:\n",
    "                    \n",
    "                    g_value = len(path) - 1  \n",
    "                    f_value = g_value + heuristic[neighbor]\n",
    "                    heapq.heappush(priority_queue, (f_value, neighbor, path + [neighbor]))\n",
    "\n",
    "    return None  \n"
   ]
  },
  {
   "cell_type": "code",
   "execution_count": 9,
   "metadata": {},
   "outputs": [],
   "source": [
    "\n",
    "g = Graph()\n",
    "g.add_edge( 's' , ['a','b'])\n",
    "g.add_edge( 'a' , ['b', 'c'])\n",
    "g.add_edge('b' , ['c'])\n",
    "g.add_edge('c' , ['d', 'g'])\n",
    "g.add_edge('d' , ['g'])\n",
    "g.add_edge('g' , [])\n",
    "heuristic = {'s': 7, 'a': 5, 'b': 7, 'c': 4, 'd': 1, 'g': 0}"
   ]
  },
  {
   "cell_type": "code",
   "execution_count": 10,
   "metadata": {},
   "outputs": [
    {
     "name": "stdout",
     "output_type": "stream",
     "text": [
      "A* Search Expansion Order: ['s', 'a', 'c', 'g']\n",
      "Path Returned by A* Search: s -> a -> c -> g\n",
      "States Not Expanded in A* Search: {'b', 'd'}\n"
     ]
    }
   ],
   "source": [
    "\n",
    "astar_path = astar_search(g.graph, 's', 'g', heuristic)\n",
    "if astar_path:\n",
    "    print(\"A* Search Expansion Order:\", astar_path)\n",
    "    print(\"Path Returned by A* Search:\", ' -> '.join(astar_path))\n",
    "else:\n",
    "    print(\"No path found from 's' to 'g'\")\n",
    "\n",
    "\n",
    "all_nodes = set(g.graph.keys())\n",
    "expanded_states = set(astar_path)\n",
    "unexpanded_states = all_nodes - expanded_states\n",
    "print(\"States Not Expanded in A* Search:\", unexpanded_states)\n"
   ]
  }
 ],
 "metadata": {
  "kernelspec": {
   "display_name": "Python 3",
   "language": "python",
   "name": "python3"
  },
  "language_info": {
   "codemirror_mode": {
    "name": "ipython",
    "version": 3
   },
   "file_extension": ".py",
   "mimetype": "text/x-python",
   "name": "python",
   "nbconvert_exporter": "python",
   "pygments_lexer": "ipython3",
   "version": "3.11.5"
  },
  "orig_nbformat": 4
 },
 "nbformat": 4,
 "nbformat_minor": 2
}
